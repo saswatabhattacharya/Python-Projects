{
 "cells": [
  {
   "cell_type": "code",
   "execution_count": 1,
   "metadata": {},
   "outputs": [
    {
     "name": "stdout",
     "output_type": "stream",
     "text": [
      "Enter the term for which you want to know the number of transactions: JIO\n",
      "Number of transactions is: 2\n"
     ]
    }
   ],
   "source": [
    "import PyPDF2\n",
    "pdfFile    =  open(\"bank_statement.pdf\",\"rb\")\n",
    "pdfReader  =  PyPDF2.PdfFileReader(pdfFile)\n",
    "page_count =  pdfReader.numPages\n",
    "a          =  0\n",
    "datalist   =  []\n",
    "while(a<page_count):\n",
    "    page       =  pdfReader.getPage(a)\n",
    "    data       =  page.extractText()\n",
    "    dataset    =  data.split(' ')\n",
    "    datalist.extend(dataset)\n",
    "    a+=1\n",
    "count      =  0\n",
    "term       =  input(\"Enter the term for which you want to know the number of transactions: \")\n",
    "for i in datalist:\n",
    "    if (i.find(term) != -1):\n",
    "        count+=1\n",
    "print(\"Number of transactions is:\",count)\n",
    "pdfFile.close()"
   ]
  },
  {
   "cell_type": "code",
   "execution_count": null,
   "metadata": {},
   "outputs": [],
   "source": []
  }
 ],
 "metadata": {
  "kernelspec": {
   "display_name": "Python 3",
   "language": "python",
   "name": "python3"
  },
  "language_info": {
   "codemirror_mode": {
    "name": "ipython",
    "version": 3
   },
   "file_extension": ".py",
   "mimetype": "text/x-python",
   "name": "python",
   "nbconvert_exporter": "python",
   "pygments_lexer": "ipython3",
   "version": "3.6.5"
  }
 },
 "nbformat": 4,
 "nbformat_minor": 2
}
