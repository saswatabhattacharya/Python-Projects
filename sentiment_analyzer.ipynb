{
 "cells": [
  {
   "cell_type": "code",
   "execution_count": 5,
   "metadata": {},
   "outputs": [
    {
     "name": "stdout",
     "output_type": "stream",
     "text": [
      "positivity:  90.0\n",
      "negativity:  10.0\n",
      "Overall sentiment of company is positive\n"
     ]
    }
   ],
   "source": [
    "import tweepy\n",
    "from textblob import TextBlob \n",
    "consumer_key    =   \"cDFoWbWhUJpv1aGxSQAfy7e7V\"\n",
    "consumer_secret =   \"ynJacRoQ4iFjYSAdufwaMMgAvNKsSEAaipUFujbSEFcQNQCWNH\"\n",
    "access_key      =   \"737922561514872836-v3n3zoQSNcZLmYLYb0vBxncp7yw4IXs\"\n",
    "access_secret   =   \"thTYkmEb2aSbntI1vkHyy1yPhiDEC5pcS29QqJA4FcwqK\"\n",
    "\n",
    "def get_tweet_sentiment(username):\n",
    "    auth = tweepy.OAuthHandler(consumer_key, consumer_secret)\n",
    "    auth.set_access_token(access_key, access_secret)\n",
    "    api = tweepy.API(auth)\n",
    "    tweets = api.user_timeline(screen_name=username,count=200,exclude_replies=True,include_rts=False)\n",
    "    sentiment=[]\n",
    "    for tweet in tweets:\n",
    "        analysis = TextBlob(tweet.text)\n",
    "        if analysis.sentiment.polarity >=0: \n",
    "            sentiment.append('positive')\n",
    "        else: \n",
    "            sentiment.append('negative')\n",
    "    \n",
    "    positive_tweets = sentiment.count(\"positive\")\n",
    "    negative_tweets = sentiment.count(\"negative\")\n",
    "    \n",
    "    positivity = 100*positive_tweets/len(tweets)\n",
    "    negativity = 100*negative_tweets/len(tweets)\n",
    "    \n",
    "    print('positivity: ',positivity)\n",
    "    print('negativity: ',negativity)\n",
    "    \n",
    "    if(positivity>negativity):\n",
    "        print(\"Overall sentiment of company is positive\")\n",
    "    else:\n",
    "        print(\"Overall sentiment of company is negative\")\n",
    "    \n",
    "        \n",
    "\n",
    "get_tweet_sentiment(\"RedmiIndia\")\n"
   ]
  },
  {
   "cell_type": "code",
   "execution_count": 1,
   "metadata": {},
   "outputs": [
    {
     "name": "stdout",
     "output_type": "stream",
     "text": [
      "positivity:  35.0\n",
      "negativity:  65.0\n",
      "Overall sentiment of company is negative\n"
     ]
    }
   ],
   "source": [
    "import tweepy\n",
    "from textblob import TextBlob \n",
    "consumer_key    =   \"cDFoWbWhUJpv1aGxSQAfy7e7V\"\n",
    "consumer_secret =   \"ynJacRoQ4iFjYSAdufwaMMgAvNKsSEAaipUFujbSEFcQNQCWNH\"\n",
    "access_key      =   \"737922561514872836-v3n3zoQSNcZLmYLYb0vBxncp7yw4IXs\"\n",
    "access_secret   =   \"thTYkmEb2aSbntI1vkHyy1yPhiDEC5pcS29QqJA4FcwqK\"\n",
    "\n",
    "def get_tweet_sentiment(query):\n",
    "    auth = tweepy.OAuthHandler(consumer_key, consumer_secret)\n",
    "    auth.set_access_token(access_key, access_secret)\n",
    "    api = tweepy.API(auth)\n",
    "    tweets = api.search(q = query, count = 200)\n",
    "    sentiment=[]\n",
    "    for tweet in tweets:\n",
    "        analysis = TextBlob(tweet.text)\n",
    "        if analysis.sentiment.polarity >=0: \n",
    "            sentiment.append('positive')\n",
    "        else: \n",
    "            sentiment.append('negative')\n",
    "    \n",
    "    positive_tweets = sentiment.count(\"positive\")\n",
    "    negative_tweets = sentiment.count(\"negative\")\n",
    "    \n",
    "    positivity = 100*positive_tweets/len(tweets)\n",
    "    negativity = 100*negative_tweets/len(tweets)\n",
    "    \n",
    "    print('positivity: ',positivity)\n",
    "    print('negativity: ',negativity)\n",
    "    \n",
    "    if(positivity>negativity):\n",
    "        print(\"Overall sentiment of company is positive\")\n",
    "    else:\n",
    "        print(\"Overall sentiment of company is negative\")\n",
    "    \n",
    "        \n",
    "\n",
    "get_tweet_sentiment(\"Hardik Pandya A\")\n"
   ]
  },
  {
   "cell_type": "code",
   "execution_count": null,
   "metadata": {},
   "outputs": [],
   "source": []
  }
 ],
 "metadata": {
  "kernelspec": {
   "display_name": "Python 3",
   "language": "python",
   "name": "python3"
  },
  "language_info": {
   "codemirror_mode": {
    "name": "ipython",
    "version": 3
   },
   "file_extension": ".py",
   "mimetype": "text/x-python",
   "name": "python",
   "nbconvert_exporter": "python",
   "pygments_lexer": "ipython3",
   "version": "3.6.5"
  }
 },
 "nbformat": 4,
 "nbformat_minor": 2
}
